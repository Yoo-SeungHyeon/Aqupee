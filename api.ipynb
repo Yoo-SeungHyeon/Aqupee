{
 "cells": [
  {
   "cell_type": "code",
   "execution_count": null,
   "metadata": {},
   "outputs": [],
   "source": [
    "# Python3 샘플 코드 #\n",
    "import json\n",
    "import requests\n",
    "import pprint\n",
    "\n",
    "api_key = \"fF%2FEkuf8awXAsiiMYAivKxzIu1Hyl76PXGGqz88Dvs7sMLoKbSaWzAxF2%2F%2FkihhIurY9PYr5kxC6lEvw8mDC4Q%3D%3D\"\n",
    "\n",
    "url = \"http://opendata.kwater.or.kr/openapi-data/service/pubd/dam/multipurPoseDam/list?tdate=2018-08-19&ldate=2017-08-20&vdate=2018-08-20&vtime=07&\" + api_key\n",
    "#url = \"http://opendata.kwater.or.kr/openapi-data/service/pubd/dam/multipurPoseDam/list?_wadl&_type=xml\"\n",
    "params ={'serviceKey' : api_key,\n",
    "        'tdate':'2023-06-29',\n",
    "        'ldate': '2023-06-30',\n",
    "        'vdate': '2023-06-30',\n",
    "        'vtime': '07',\n",
    "        'numOfRows': '10',\n",
    "        'pageNo':'1'}\n",
    "\n",
    "response = requests.get(url, params=params)\n",
    "contents = response.content\n",
    "pprint.pprint(contents, depth = 2)"
   ]
  }
 ],
 "metadata": {
  "language_info": {
   "name": "python"
  }
 },
 "nbformat": 4,
 "nbformat_minor": 2
}
