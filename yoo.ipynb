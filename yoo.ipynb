version https://git-lfs.github.com/spec/v1
oid sha256:e5de70502ec5af9332ccec369395a661e10861cd3fbc637eb497ac8804dbd09c
size 171260248
