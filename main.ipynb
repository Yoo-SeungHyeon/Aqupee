{
 "cells": [
  {
   "cell_type": "code",
   "execution_count": 7,
   "metadata": {},
   "outputs": [
    {
     "name": "stdout",
     "output_type": "stream",
     "text": [
      "b'<application xmlns=\"http://wadl.dev.java.net/2009/02\" xmlns:xs=\"http://www.w3.org/2001/XMLSchema\"><grammars><xs:schema xmlns:xs=\"http://www.w3.org/2001/XMLSchema\" attributeFormDefault=\"unqualified\" elementFormDefault=\"unqualified\">\\n    <xs:element name=\"DEDAMINFO\" type=\"dedaminfo\"/>\\n    <xs:element name=\"header\" type=\"getDEDAMINFOListHeader\"/>\\n    <xs:element name=\"response\" type=\"getDEDAMINFOListResponse\"/>\\n    <xs:complexType name=\"getDEDAMINFOListResponse\">\\n        <xs:sequence>\\n            <xs:element minOccurs=\"0\" ref=\"header\"/>\\n            <xs:element minOccurs=\"0\" name=\"body\" type=\"getDEDAMINFOListBody\"/>\\n        </xs:sequence>\\n    </xs:complexType>\\n    <xs:complexType name=\"getDEDAMINFOListHeader\">\\n        <xs:sequence>\\n            <xs:element minOccurs=\"0\" name=\"resultCode\" type=\"xs:string\"/>\\n            <xs:element minOccurs=\"0\" name=\"resultMsg\" type=\"xs:string\"/>\\n        </xs:sequence>\\n    </xs:complexType>\\n    <xs:complexType name=\"getDEDAMINFOListBody\">\\n        <xs:sequence>\\n            <xs:element minOccurs=\"0\" name=\"items\">\\n                <xs:complexType>\\n                    <xs:sequence>\\n                        <xs:element maxOccurs=\"unbounded\" minOccurs=\"0\" name=\"item\" type=\"dedaminfo\"/>\\n                    </xs:sequence>\\n                </xs:complexType>\\n            </xs:element>\\n            <xs:element minOccurs=\"0\" name=\"numOfRows\" type=\"xs:int\"/>\\n            <xs:element minOccurs=\"0\" name=\"pageNo\" type=\"xs:int\"/>\\n            <xs:element minOccurs=\"0\" name=\"totalCount\" type=\"xs:int\"/>\\n        </xs:sequence>\\n    </xs:complexType>\\n    <xs:complexType name=\"dedaminfo\">\\n        <xs:sequence>\\n            <xs:element minOccurs=\"0\" name=\"damcode\" type=\"xs:string\"/>\\n            <xs:element minOccurs=\"0\" name=\"damnm\" type=\"xs:string\"/>\\n            <xs:element minOccurs=\"0\" name=\"dbdqyone\" type=\"xs:string\"/>\\n            <xs:element minOccurs=\"0\" name=\"dbdqythree\" type=\"xs:string\"/>\\n            <xs:element minOccurs=\"0\" name=\"dbdqytwo\" type=\"xs:string\"/>\\n            <xs:element minOccurs=\"0\" name=\"de\" type=\"xs:string\"/>\\n            <xs:element minOccurs=\"0\" name=\"dvlpdcwtrqy\" type=\"xs:string\"/>\\n            <xs:element minOccurs=\"0\" name=\"dvlpqyacmtlacmslt\" type=\"xs:string\"/>\\n            <xs:element minOccurs=\"0\" name=\"dvlpqyacmtlplan\" type=\"xs:string\"/>\\n            <xs:element minOccurs=\"0\" name=\"dvlpqyacmtlversus\" type=\"xs:string\"/>\\n            <xs:element minOccurs=\"0\" name=\"dvlpqyfyerplan\" type=\"xs:string\"/>\\n            <xs:element minOccurs=\"0\" name=\"dvlpqyfyerversus\" type=\"xs:string\"/>\\n            <xs:element minOccurs=\"0\" name=\"etcdcwtrqyone\" type=\"xs:string\"/>\\n            <xs:element minOccurs=\"0\" name=\"etcdcwtrqythree\" type=\"xs:string\"/>\\n            <xs:element minOccurs=\"0\" name=\"etcdcwtrqytwo\" type=\"xs:string\"/>\\n            <xs:element minOccurs=\"0\" name=\"etcdvlpdcwtrqy\" type=\"xs:decimal\"/>\\n            <xs:element minOccurs=\"0\" name=\"inflowqy\" type=\"xs:string\"/>\\n            <xs:element minOccurs=\"0\" name=\"lastlowlevel\" type=\"xs:string\"/>\\n            <xs:element minOccurs=\"0\" name=\"lastrsvwtqy\" type=\"xs:string\"/>\\n            <xs:element minOccurs=\"0\" name=\"nowlowlevel\" type=\"xs:string\"/>\\n            <xs:element minOccurs=\"0\" name=\"nowrsvwtqy\" type=\"xs:string\"/>\\n            <xs:element minOccurs=\"0\" name=\"nyearavrgacmtlrf\" type=\"xs:string\"/>\\n            <xs:element minOccurs=\"0\" name=\"nyearlowlevel\" type=\"xs:string\"/>\\n            <xs:element minOccurs=\"0\" name=\"nyearrsvwtqy\" type=\"xs:string\"/>\\n            <xs:element minOccurs=\"0\" name=\"obsryymtde\" type=\"xs:string\"/>\\n            <xs:element minOccurs=\"0\" name=\"outletdcwtrqy\" type=\"xs:string\"/>\\n            <xs:element minOccurs=\"0\" name=\"oyaacurf\" type=\"xs:string\"/>\\n            <xs:element minOccurs=\"0\" name=\"prcptqy\" type=\"xs:string\"/>\\n            <xs:element minOccurs=\"0\" name=\"prvyyacmtlrf\" type=\"xs:string\"/>\\n            <xs:element minOccurs=\"0\" name=\"prvyylowlevel\" type=\"xs:string\"/>\\n            <xs:element minOccurs=\"0\" name=\"prvyyrsvwtqy\" type=\"xs:string\"/>\\n            <xs:element minOccurs=\"0\" name=\"pyacurf\" type=\"xs:string\"/>\\n            <xs:element minOccurs=\"0\" name=\"rsvwtrt\" type=\"xs:string\"/>\\n            <xs:element minOccurs=\"0\" name=\"spilldcwtrqy\" type=\"xs:string\"/>\\n            <xs:element minOccurs=\"0\" name=\"suge\" type=\"xs:string\"/>\\n            <xs:element minOccurs=\"0\" name=\"thsyracmtlrf\" type=\"xs:string\"/>\\n            <xs:element minOccurs=\"0\" name=\"totdcwtrqy\" type=\"xs:string\"/>\\n            <xs:element minOccurs=\"0\" name=\"totdcwtrqyjo\" type=\"xs:string\"/>\\n            <xs:element minOccurs=\"0\" name=\"vyacurf\" type=\"xs:string\"/>\\n            <xs:element minOccurs=\"0\" name=\"zerosevenhourprcptqy\" type=\"xs:string\"/>\\n        </xs:sequence>\\n    </xs:complexType>\\n</xs:schema>\\n</grammars><resources base=\"http://opendata.kwater.or.kr:80/openapi-data/service/pubd/dam/multipurPoseDam\"><resource path=\"/\"><resource path=\"list\"><method name=\"GET\"><request><param name=\"tdate\" style=\"query\" type=\"xs:string\"/><param name=\"ldate\" style=\"query\" type=\"xs:string\"/><param name=\"vdate\" style=\"query\" type=\"xs:string\"/><param name=\"vtime\" style=\"query\" type=\"xs:string\"/><param name=\"pageNo\" style=\"query\" default=\"1\" type=\"xs:int\"/><param name=\"numOfRows\" style=\"query\" default=\"10\" type=\"xs:int\"/></request><response><representation mediaType=\"application/xml\"/><representation mediaType=\"application/json\"/></response></method></resource></resource></resources></application>'\n"
     ]
    }
   ],
   "source": [
    "# Python3 샘플 코드 #\n",
    "import json\n",
    "import requests\n",
    "import pprint\n",
    "\n",
    "api_key = \"fF%2FEkuf8awXAsiiMYAivKxzIu1Hyl76PXGGqz88Dvs7sMLoKbSaWzAxF2%2F%2FkihhIurY9PYr5kxC6lEvw8mDC4Q%3D%3D\"\n",
    "\n",
    "url = \"http://opendata.kwater.or.kr/openapi-data/service/pubd/dam/multipurPoseDam/list?_wadl&_type=xml\"\n",
    "params ={'serviceKey' : api_key,\n",
    "        'tdate':'2023-01-01',\n",
    "        'ldate': '2024-01-01',\n",
    "        'vdate': '2023-06-30',\n",
    "        'vtime': 12,\n",
    "        'numOfRows': 10,\n",
    "        'pageNo':3}\n",
    "\n",
    "response = requests.get(url, params=params)\n",
    "contents = response.content\n",
    "print(contents)"
   ]
  },
  {
   "cell_type": "code",
   "execution_count": null,
   "metadata": {},
   "outputs": [],
   "source": []
  }
 ],
 "metadata": {
  "kernelspec": {
   "display_name": "Python 3",
   "language": "python",
   "name": "python3"
  },
  "language_info": {
   "codemirror_mode": {
    "name": "ipython",
    "version": 3
   },
   "file_extension": ".py",
   "mimetype": "text/x-python",
   "name": "python",
   "nbconvert_exporter": "python",
   "pygments_lexer": "ipython3",
   "version": "3.12.2"
  }
 },
 "nbformat": 4,
 "nbformat_minor": 2
}
