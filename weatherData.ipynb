{
 "cells": [
  {
   "cell_type": "code",
   "execution_count": 53,
   "metadata": {},
   "outputs": [],
   "source": [
    "import requests\n",
    "import pandas as pd\n",
    "from bs4 import BeautifulSoup\n",
    "from datetime import datetime, timedelta"
   ]
  },
  {
   "cell_type": "code",
   "execution_count": 54,
   "metadata": {},
   "outputs": [],
   "source": [
    "def date_change(date):\n",
    "    nowdate = datetime.strptime(date, \"%Y-%m-%d\")\n",
    "\n",
    "    nextYear = nowdate.replace(year=nowdate.year + 1)\n",
    "    endDate = (nextYear - timedelta(days=1)).strftime(\"%Y%m%d\")\n",
    "    startDate = nowdate.strftime(\"%Y%m%d\")\n",
    "\n",
    "    return startDate, endDate"
   ]
  },
  {
   "cell_type": "code",
   "execution_count": 55,
   "metadata": {},
   "outputs": [
    {
     "data": {
      "text/plain": [
       "('20240522', '20250521')"
      ]
     },
     "execution_count": 55,
     "metadata": {},
     "output_type": "execute_result"
    }
   ],
   "source": [
    "date_change(\"2024-05-22\")"
   ]
  },
  {
   "cell_type": "code",
   "execution_count": 56,
   "metadata": {},
   "outputs": [],
   "source": [
    "def parse_month(year, month, stnid, stnnm, m_temp, m_gtemp):\n",
    "\n",
    "    try:\n",
    "\n",
    "        # 지점 이름, 지점 아이디\n",
    "\n",
    "        return {\n",
    "            \"년도\": year,\n",
    "            \"월\": month,\n",
    "            \"지점 번호\": stnid,\n",
    "            \"지점명\": stnnm,\n",
    "            \"월평균 기온\": m_temp,\n",
    "            \"월평균 지면온도\": m_gtemp,\n",
    "        }\n",
    "\n",
    "    except AttributeError as e:\n",
    "        return {\n",
    "            \"년도\": None,\n",
    "            \"월\": None,\n",
    "            \"지점 번호\": None,\n",
    "            \"지점명\": None,\n",
    "            \"월평균 기온\": None,\n",
    "            \"월평균 지면온도\": None,\n",
    "        }"
   ]
  },
  {
   "cell_type": "code",
   "execution_count": 57,
   "metadata": {},
   "outputs": [],
   "source": [
    "def mean_cul(item, result_m):\n",
    "\n",
    "    STNID = item.find(\"stnId\").get_text()\n",
    "    STNNM = item.find(\"stnNm\").get_text()\n",
    "    try:\n",
    "        temp = float(item.find(\"avgTa\").get_text())\n",
    "        ground_temp = float(item.find(\"avgTs\").get_text())\n",
    "    except ValueError:\n",
    "        temp = 0\n",
    "        ground_temp = 0\n",
    "        if \"error\" in result_m:\n",
    "            result_m[\"error\"] = result_m[\"error\"] + 1\n",
    "        else:\n",
    "            result_m[\"error\"] = 1\n",
    "\n",
    "    result_m[\"stnid\"] = STNID\n",
    "    result_m[\"stnnm\"] = STNNM\n",
    "\n",
    "    if \"t_total\" in result_m:\n",
    "        result_m[\"t_total\"] = result_m[\"t_total\"] + temp\n",
    "        result_m[\"gt_total\"] = result_m[\"gt_total\"] + ground_temp\n",
    "        result_m[\"cnt\"] = result_m[\"cnt\"] + 1\n",
    "    else:\n",
    "        result_m[\"t_total\"] = temp\n",
    "        result_m[\"gt_total\"] = ground_temp\n",
    "        result_m[\"cnt\"] = 1\n",
    "\n",
    "    return result_m"
   ]
  },
  {
   "cell_type": "code",
   "execution_count": 58,
   "metadata": {},
   "outputs": [],
   "source": [
    "def init(result_m):\n",
    "    result_m = {}\n",
    "    return result_m\n"
   ]
  },
  {
   "cell_type": "code",
   "execution_count": 59,
   "metadata": {},
   "outputs": [],
   "source": [
    "def data_calling(day, id, month_result):\n",
    "    startDt, endDt = date_change(day)\n",
    "\n",
    "    url = \"http://apis.data.go.kr/1360000/AsosDalyInfoService/getWthrDataList\"\n",
    "    params = {\n",
    "        \"serviceKey\": \"JblClLk+uLRS6hB9k3LbHV8cJYUxFo3XL4pNRgX5yJOdGf8E8wlFkrB8so5AunCF9QnI/tIdf/vkDbpqcWwzKg==\",\n",
    "        \"pageNo\": 1,\n",
    "        \"numOfRows\": \"365\",\n",
    "        \"dataType\": \"XML\",\n",
    "        \"dataCd\": \"ASOS\",\n",
    "        \"dateCd\": \"DAY\",\n",
    "        \"startDt\": startDt,\n",
    "        \"endDt\": endDt,\n",
    "        \"stnIds\": id,\n",
    "    }\n",
    "\n",
    "    response = requests.get(url, params=params)\n",
    "\n",
    "    # pprint.pprint(response.text, depth=4)\n",
    "\n",
    "    soup = BeautifulSoup(response.content, features=\"xml\")\n",
    "    # pprint.pprint(soup.text)\n",
    "    items = soup.find_all(\"item\")\n",
    "\n",
    "    if items is None:\n",
    "        print(\"nothing in items\")\n",
    "\n",
    "    month = \"01\"\n",
    "\n",
    "    result_m = {}\n",
    "    # result_m = init(result_m)\n",
    "\n",
    "    for item in items:\n",
    "        TM = item.find(\"tm\").get_text()\n",
    "\n",
    "        months = TM.split(\"-\")\n",
    "\n",
    "        if month == months[1]:\n",
    "            result_m = mean_cul(item, result_m)\n",
    "\n",
    "        else:\n",
    "            if \"error\" in result_m:\n",
    "                count = result_m[\"cnt\"] - result_m[\"error\"]\n",
    "            else:\n",
    "                count = result_m[\"cnt\"]\n",
    "\n",
    "            m_temp = result_m[\"t_total\"] / count\n",
    "            m_gtemp = result_m[\"gt_total\"] / count\n",
    "            month_result.append(\n",
    "                parse_month(\n",
    "                    months[0],\n",
    "                    month,\n",
    "                    result_m[\"stnid\"],\n",
    "                    result_m[\"stnnm\"],\n",
    "                    m_temp,\n",
    "                    m_gtemp,\n",
    "                )\n",
    "            )\n",
    "            month = months[1]\n",
    "            result_m = {}\n",
    "            # result_m = init(result_m)\n",
    "            result_m = mean_cul(item, result_m)\n",
    "\n",
    "    if \"error\" in result_m:\n",
    "        count = result_m[\"cnt\"] - result_m[\"error\"]\n",
    "    else:\n",
    "        count = result_m[\"cnt\"]\n",
    "\n",
    "    m_temp = result_m[\"t_total\"] / count\n",
    "    m_gtemp = result_m[\"gt_total\"] / count\n",
    "\n",
    "    month_result.append(\n",
    "        parse_month(\n",
    "            months[0], month, result_m[\"stnid\"], result_m[\"stnnm\"], m_temp, m_gtemp\n",
    "        )\n",
    "    )\n",
    "\n",
    "    return month_result"
   ]
  },
  {
   "cell_type": "code",
   "execution_count": 60,
   "metadata": {},
   "outputs": [],
   "source": [
    "import pandas as pd\n",
    "\n",
    "data = pd.read_csv('./observation_point_info.csv',encoding=\"CP949\")\n",
    "OPI_df = pd.DataFrame(data)"
   ]
  },
  {
   "cell_type": "code",
   "execution_count": 61,
   "metadata": {},
   "outputs": [],
   "source": [
    "observation_point_num_list = [90,93,95,98,99,100,101,102,104,105,106,108,112,114,115,119,121,127,129,130,131,133,135,136,137,138,140,143,146,152,155,156,159,162,165,168,169,170,172,174,177,184,185,188,189,192,201,202,203,211,212,216,217,221,226,232,235,236,238,239,243,244,245,247,248,251,252,253,254,255,257,258,259,260,261,262,263,264,266,268,271,272,273,276,277,278,279,281,283,284,285,288,289,294,295]"
   ]
  },
  {
   "cell_type": "code",
   "execution_count": 62,
   "metadata": {},
   "outputs": [],
   "source": [
    "opi2_df = OPI_df[OPI_df['위도']<37]"
   ]
  },
  {
   "cell_type": "code",
   "execution_count": 73,
   "metadata": {},
   "outputs": [
    {
     "data": {
      "text/plain": [
       "110"
      ]
     },
     "execution_count": 73,
     "metadata": {},
     "output_type": "execute_result"
    }
   ],
   "source": [
    "len(opi2_df)"
   ]
  },
  {
   "cell_type": "code",
   "execution_count": 63,
   "metadata": {},
   "outputs": [],
   "source": [
    "final_opi_df = opi2_df[opi2_df['위도']>36]"
   ]
  },
  {
   "cell_type": "code",
   "execution_count": 64,
   "metadata": {},
   "outputs": [
    {
     "data": {
      "text/plain": [
       "34"
      ]
     },
     "execution_count": 64,
     "metadata": {},
     "output_type": "execute_result"
    }
   ],
   "source": [
    "len(final_opi_df)"
   ]
  },
  {
   "cell_type": "code",
   "execution_count": 65,
   "metadata": {},
   "outputs": [],
   "source": [
    "opi_point_list = list(final_opi_df['지점'])"
   ]
  },
  {
   "cell_type": "code",
   "execution_count": 66,
   "metadata": {},
   "outputs": [
    {
     "data": {
      "text/plain": [
       "34"
      ]
     },
     "execution_count": 66,
     "metadata": {},
     "output_type": "execute_result"
    }
   ],
   "source": [
    "len(opi_point_list)"
   ]
  },
  {
   "cell_type": "code",
   "execution_count": 69,
   "metadata": {},
   "outputs": [],
   "source": [
    "opi_final_list = []\n",
    "for point in opi_point_list:\n",
    "    if point in observation_point_num_list:\n",
    "        opi_final_list.append(point)"
   ]
  },
  {
   "cell_type": "code",
   "execution_count": 74,
   "metadata": {},
   "outputs": [
    {
     "data": {
      "text/plain": [
       "32"
      ]
     },
     "execution_count": 74,
     "metadata": {},
     "output_type": "execute_result"
    }
   ],
   "source": [
    "len(opi_final_list)"
   ]
  },
  {
   "cell_type": "code",
   "execution_count": 70,
   "metadata": {},
   "outputs": [],
   "source": [
    "month_result = []\n",
    "date_list = [\n",
    "    \"2014-01-01\",\n",
    "    \"2015-01-01\",\n",
    "    \"2016-01-01\",\n",
    "    \"2017-01-01\",\n",
    "    \"2018-01-01\",\n",
    "    \"2019-01-01\",\n",
    "    \"2020-01-01\",\n",
    "    \"2021-01-01\",\n",
    "    \"2022-01-01\",\n",
    "    \"2023-01-01\",\n",
    "]\n",
    "# id_list = [\"127\"]\n",
    "id_list = opi_final_list"
   ]
  },
  {
   "cell_type": "code",
   "execution_count": 71,
   "metadata": {},
   "outputs": [
    {
     "ename": "KeyError",
     "evalue": "'cnt'",
     "output_type": "error",
     "traceback": [
      "\u001b[1;31m---------------------------------------------------------------------------\u001b[0m",
      "\u001b[1;31mKeyError\u001b[0m                                  Traceback (most recent call last)",
      "Cell \u001b[1;32mIn[71], line 3\u001b[0m\n\u001b[0;32m      1\u001b[0m \u001b[38;5;28;01mfor\u001b[39;00m date \u001b[38;5;129;01min\u001b[39;00m date_list:\n\u001b[0;32m      2\u001b[0m     \u001b[38;5;28;01mfor\u001b[39;00m \u001b[38;5;28mid\u001b[39m \u001b[38;5;129;01min\u001b[39;00m id_list:\n\u001b[1;32m----> 3\u001b[0m         month_result \u001b[38;5;241m=\u001b[39m \u001b[43mdata_calling\u001b[49m\u001b[43m(\u001b[49m\u001b[43mdate\u001b[49m\u001b[43m,\u001b[49m\u001b[43m \u001b[49m\u001b[38;5;28;43mid\u001b[39;49m\u001b[43m,\u001b[49m\u001b[43m \u001b[49m\u001b[43mmonth_result\u001b[49m\u001b[43m)\u001b[49m\n\u001b[0;32m      6\u001b[0m df \u001b[38;5;241m=\u001b[39m pd\u001b[38;5;241m.\u001b[39mDataFrame(month_result)\n",
      "Cell \u001b[1;32mIn[59], line 67\u001b[0m, in \u001b[0;36mdata_calling\u001b[1;34m(day, id, month_result)\u001b[0m\n\u001b[0;32m     65\u001b[0m     count \u001b[38;5;241m=\u001b[39m result_m[\u001b[38;5;124m\"\u001b[39m\u001b[38;5;124mcnt\u001b[39m\u001b[38;5;124m\"\u001b[39m] \u001b[38;5;241m-\u001b[39m result_m[\u001b[38;5;124m\"\u001b[39m\u001b[38;5;124merror\u001b[39m\u001b[38;5;124m\"\u001b[39m]\n\u001b[0;32m     66\u001b[0m \u001b[38;5;28;01melse\u001b[39;00m:\n\u001b[1;32m---> 67\u001b[0m     count \u001b[38;5;241m=\u001b[39m \u001b[43mresult_m\u001b[49m\u001b[43m[\u001b[49m\u001b[38;5;124;43m\"\u001b[39;49m\u001b[38;5;124;43mcnt\u001b[39;49m\u001b[38;5;124;43m\"\u001b[39;49m\u001b[43m]\u001b[49m\n\u001b[0;32m     69\u001b[0m m_temp \u001b[38;5;241m=\u001b[39m result_m[\u001b[38;5;124m\"\u001b[39m\u001b[38;5;124mt_total\u001b[39m\u001b[38;5;124m\"\u001b[39m] \u001b[38;5;241m/\u001b[39m count\n\u001b[0;32m     70\u001b[0m m_gtemp \u001b[38;5;241m=\u001b[39m result_m[\u001b[38;5;124m\"\u001b[39m\u001b[38;5;124mgt_total\u001b[39m\u001b[38;5;124m\"\u001b[39m] \u001b[38;5;241m/\u001b[39m count\n",
      "\u001b[1;31mKeyError\u001b[0m: 'cnt'"
     ]
    }
   ],
   "source": [
    "for date in date_list:\n",
    "    for id in id_list:\n",
    "        month_result = data_calling(date, id, month_result)\n",
    "\n",
    "\n",
    "df = pd.DataFrame(month_result)"
   ]
  },
  {
   "cell_type": "code",
   "execution_count": null,
   "metadata": {},
   "outputs": [],
   "source": []
  }
 ],
 "metadata": {
  "kernelspec": {
   "display_name": "Python 3",
   "language": "python",
   "name": "python3"
  },
  "language_info": {
   "codemirror_mode": {
    "name": "ipython",
    "version": 3
   },
   "file_extension": ".py",
   "mimetype": "text/x-python",
   "name": "python",
   "nbconvert_exporter": "python",
   "pygments_lexer": "ipython3",
   "version": "3.12.2"
  }
 },
 "nbformat": 4,
 "nbformat_minor": 2
}
